{
 "cells": [
  {
   "cell_type": "markdown",
   "metadata": {},
   "source": [
    "# Learning DSSData \n",
    "\n",
    "In this tutorial, we will learn the main concepts of DSSData. For that, we will run a probabilistic power flow on the [IEEE 13 bus](https://site.ieee.org/pes-testfeeders/resources/) (the ```.dss``` file can be found in OpenDSS install directory) with two turbine wind generators to observe the impact on the transformer substation losses in the distribution system. \n",
    "\n",
    "<figure>\n",
    "    <img src=\"IEEE-13-bus.png\" alt=\"run_static_pf\">\t\n",
    "</figure>\n",
    "\n",
    "\n",
    "## Loading your .dss file \n",
    "\n",
    "To load your ``` .dss``` file, we import the class ``` SystemClass```  and instantiate it, indicating the path to the ``` .dss``` file and the base system voltage. If all goes well, you can see the name of the distribution system.\n"
   ]
  },
  {
   "cell_type": "code",
   "execution_count": 1,
   "metadata": {},
   "outputs": [
    {
     "name": "stdout",
     "output_type": "stream",
     "text": [
      "ieee13nodeckt\n"
     ]
    }
   ],
   "source": [
    "from dssdata import SystemClass\n",
    "\n",
    "path = \"IEEE13bus/IEEE13Nodeckt.dss\"\n",
    "\n",
    "distSys = SystemClass(path=path, kV=[115, 4.16, 0.48])\n",
    "print(distSys.name)"
   ]
  },
  {
   "cell_type": "markdown",
   "metadata": {},
   "source": [
    "## Run power flow\n",
    "\n",
    "### Static power flow\n",
    "To run a power flow mode, we need to import a mode from ```dssdata.pfmodes```. \n",
    "\n",
    "The DSSData has some build-in tools that we can using for a quick start. We will talk about ```Tools``` in the next topic, for now we can use the ```voltages``` tool for run a static power flow using ```run_static_pf``` mode and get some voltages.\n"
   ]
  },
  {
   "cell_type": "code",
   "execution_count": 2,
   "metadata": {},
   "outputs": [
    {
     "data": {
      "text/html": [
       "<div>\n",
       "<style scoped>\n",
       "    .dataframe tbody tr th:only-of-type {\n",
       "        vertical-align: middle;\n",
       "    }\n",
       "\n",
       "    .dataframe tbody tr th {\n",
       "        vertical-align: top;\n",
       "    }\n",
       "\n",
       "    .dataframe thead th {\n",
       "        text-align: right;\n",
       "    }\n",
       "</style>\n",
       "<table border=\"1\" class=\"dataframe\">\n",
       "  <thead>\n",
       "    <tr style=\"text-align: right;\">\n",
       "      <th></th>\n",
       "      <th>bus_name</th>\n",
       "      <th>v_pu_a</th>\n",
       "      <th>v_pu_b</th>\n",
       "      <th>v_pu_c</th>\n",
       "      <th>ang_a</th>\n",
       "      <th>ang_b</th>\n",
       "      <th>ang_c</th>\n",
       "      <th>phase</th>\n",
       "    </tr>\n",
       "  </thead>\n",
       "  <tbody>\n",
       "    <tr>\n",
       "      <th>0</th>\n",
       "      <td>sourcebus</td>\n",
       "      <td>1.0000</td>\n",
       "      <td>1.0000</td>\n",
       "      <td>1.0000</td>\n",
       "      <td>29.99</td>\n",
       "      <td>-90.01</td>\n",
       "      <td>149.99</td>\n",
       "      <td>abc</td>\n",
       "    </tr>\n",
       "    <tr>\n",
       "      <th>1</th>\n",
       "      <td>650</td>\n",
       "      <td>0.9999</td>\n",
       "      <td>1.0000</td>\n",
       "      <td>0.9999</td>\n",
       "      <td>-0.01</td>\n",
       "      <td>-120.01</td>\n",
       "      <td>119.99</td>\n",
       "      <td>abc</td>\n",
       "    </tr>\n",
       "    <tr>\n",
       "      <th>2</th>\n",
       "      <td>rg60</td>\n",
       "      <td>1.0560</td>\n",
       "      <td>1.0374</td>\n",
       "      <td>1.0560</td>\n",
       "      <td>-0.01</td>\n",
       "      <td>-120.01</td>\n",
       "      <td>119.98</td>\n",
       "      <td>abc</td>\n",
       "    </tr>\n",
       "  </tbody>\n",
       "</table>\n",
       "</div>"
      ],
      "text/plain": [
       "    bus_name  v_pu_a  v_pu_b  v_pu_c  ang_a   ang_b   ang_c phase\n",
       "0  sourcebus  1.0000  1.0000  1.0000  29.99  -90.01  149.99   abc\n",
       "1        650  0.9999  1.0000  0.9999  -0.01 -120.01  119.99   abc\n",
       "2       rg60  1.0560  1.0374  1.0560  -0.01 -120.01  119.98   abc"
      ]
     },
     "execution_count": 2,
     "metadata": {},
     "output_type": "execute_result"
    }
   ],
   "source": [
    "from dssdata.pfmodes import run_static_pf\n",
    "from dssdata.tools import voltages\n",
    "import matplotlib.pyplot as plt # The plot lib.\n",
    "\n",
    "[busVoltageDF] = run_static_pf(distSys, tools=[voltages.get_all])\n",
    "busVoltageDF.head(3)"
   ]
  },
  {
   "cell_type": "markdown",
   "metadata": {},
   "source": [
    "The static power flow mode always assures that the distribution system back to the initial state, as can be seen below.\n",
    "\n",
    "<figure>\n",
    "    <img src=\"run_static_pf.png\" alt=\"run_static_pf\">\t\n",
    "</figure>\n",
    "\n",
    "We will talk about action and tools in the next topics."
   ]
  },
  {
   "cell_type": "markdown",
   "metadata": {},
   "source": [
    "### Time series power flow\n",
    "\n",
    "If you want run a time series power flow you can import ```cfg_tspf``` and ```run_tspf```. The ```cfg_tspf``` will configure the OpenDSS to run proprely and ```run_tspf``` execute the time series power flow. You can see a simple exemple in [Getting Started](../gettingstart/#time-series-power-flow).\n"
   ]
  },
  {
   "cell_type": "code",
   "execution_count": 3,
   "metadata": {},
   "outputs": [],
   "source": [
    "from dssdata.pfmodes import cfg_tspf, run_tspf"
   ]
  },
  {
   "cell_type": "markdown",
   "metadata": {},
   "source": [
    "The time-series power flow mode executes all steps required with actions and tools and only at the end of steps the distribution system back to the initial state, as can be seen below.\n",
    "\n",
    "<figure>\n",
    "    <img src=\"run_tspf.png\" alt=\"run_static_pf\">\t\n",
    "</figure>\n",
    "\n",
    "> For that, be careful when you will use actions in this mode."
   ]
  },
  {
   "cell_type": "markdown",
   "metadata": {},
   "source": [
    "## Creating your first Tool\n",
    "\n",
    "To obtain the loss information of the substation, we will create a ```Tool``` called ```get_loss```. For this, we import the decorator tools.\n",
    "\n",
    "> A ```Tool``` is a python function that takes as a parameter only an instance of ```SystemClass``` and returns a ```pandas.DataFrame```.\n",
    "\n",
    "We can access the transformer losses by requesting directly from the API [OpenDSSDirect.py](https://github.com/dss-extensions/OpenDSSDirect.py/tree/master/opendssdirect) using the ```Transformers.Name``` passing the name of the substation transformer as a parameter.\n",
    "\n",
    "To check if all is ok, we can run a static power flow with our tool.\n"
   ]
  },
  {
   "cell_type": "code",
   "execution_count": 4,
   "metadata": {},
   "outputs": [
    {
     "data": {
      "text/html": [
       "<div>\n",
       "<style scoped>\n",
       "    .dataframe tbody tr th:only-of-type {\n",
       "        vertical-align: middle;\n",
       "    }\n",
       "\n",
       "    .dataframe tbody tr th {\n",
       "        vertical-align: top;\n",
       "    }\n",
       "\n",
       "    .dataframe thead th {\n",
       "        text-align: right;\n",
       "    }\n",
       "</style>\n",
       "<table border=\"1\" class=\"dataframe\">\n",
       "  <thead>\n",
       "    <tr style=\"text-align: right;\">\n",
       "      <th></th>\n",
       "      <th>kW</th>\n",
       "      <th>kVAr</th>\n",
       "    </tr>\n",
       "  </thead>\n",
       "  <tbody>\n",
       "    <tr>\n",
       "      <th>0</th>\n",
       "      <td>32.287666</td>\n",
       "      <td>262.467584</td>\n",
       "    </tr>\n",
       "  </tbody>\n",
       "</table>\n",
       "</div>"
      ],
      "text/plain": [
       "          kW        kVAr\n",
       "0  32.287666  262.467584"
      ]
     },
     "execution_count": 4,
     "metadata": {},
     "output_type": "execute_result"
    }
   ],
   "source": [
    "import pandas\n",
    "from dssdata.decorators import tools\n",
    "\n",
    "@tools\n",
    "def get_loss(distSys):\n",
    "    # Active the substation transformer\n",
    "    distSys.dss.Transformers.Name(\"Sub\")\n",
    "\n",
    "    # get the substation transformer losses\n",
    "    loss = distSys.dss.CktElement.Losses()\n",
    "\n",
    "    return pandas.DataFrame(data={\"kW\": [loss[0]], \"kVAr\": [loss[1]]})\n",
    "\n",
    "#Run static power flow.\n",
    "[loss] = run_static_pf(distSys, tools=[get_loss])\n",
    "\n",
    "loss"
   ]
  },
  {
   "cell_type": "markdown",
   "metadata": {},
   "source": [
    "## Creating your first Action\n",
    "\n",
    "When implementing a probabilistic power flow, the loads have a stochastic behavior. In this tutorial, we will use the ```normal``` function of ```numpy.random``` in which the mean value is the nominal power of the load and the standard deviation is a quarter of the nominal power.\n",
    "\n",
    "In this way, we will create an ```Action``` called ```change_loads``` that changes the active and reactive power of all loads.\n",
    "\n",
    "> An Action is a python function with no return, which receives only the instance of ```SystemClass```, modifies the distribution system but does not change the ``` SystemClass.dsscontent```.\n",
    "\n",
    "To validate the ```Action``` we will execute another probabilistic power flow, and we can see that the losses have changed.\n"
   ]
  },
  {
   "cell_type": "code",
   "execution_count": 5,
   "metadata": {},
   "outputs": [
    {
     "data": {
      "text/html": [
       "<div>\n",
       "<style scoped>\n",
       "    .dataframe tbody tr th:only-of-type {\n",
       "        vertical-align: middle;\n",
       "    }\n",
       "\n",
       "    .dataframe tbody tr th {\n",
       "        vertical-align: top;\n",
       "    }\n",
       "\n",
       "    .dataframe thead th {\n",
       "        text-align: right;\n",
       "    }\n",
       "</style>\n",
       "<table border=\"1\" class=\"dataframe\">\n",
       "  <thead>\n",
       "    <tr style=\"text-align: right;\">\n",
       "      <th></th>\n",
       "      <th>kW</th>\n",
       "      <th>kVAr</th>\n",
       "    </tr>\n",
       "  </thead>\n",
       "  <tbody>\n",
       "    <tr>\n",
       "      <th>0</th>\n",
       "      <td>30.33043</td>\n",
       "      <td>246.809811</td>\n",
       "    </tr>\n",
       "  </tbody>\n",
       "</table>\n",
       "</div>"
      ],
      "text/plain": [
       "         kW        kVAr\n",
       "0  30.33043  246.809811"
      ]
     },
     "execution_count": 5,
     "metadata": {},
     "output_type": "execute_result"
    }
   ],
   "source": [
    "from dssdata.decorators import actions\n",
    "from numpy.random import normal\n",
    "\n",
    "@actions\n",
    "def change_loads(distSys):\n",
    "    # Get all loads names.\n",
    "    loads_names = distSys.dss.Loads.AllNames()\n",
    "    for load_name in loads_names:\n",
    "        # Active the load\n",
    "        distSys.dss.Loads.Name(load_name)\n",
    "\n",
    "        # Get the active and reactive power of load.\n",
    "        kw = float(distSys.run_command(f\"? Load.{load_name}.kw\"))\n",
    "        kvar = float(distSys.run_command(f\"? Load.{load_name}.kvar\"))\n",
    "\n",
    "        # Generate a normal distributed value for active and reactive power.\n",
    "        new_kw = normal(kw, kw / 4)\n",
    "        new_kvar = normal(kvar, kvar / 4)\n",
    "\n",
    "        # Set the new values of active and reactive power.\n",
    "        distSys.run_command(f\"Load.{load_name}.kw = {new_kw}\")\n",
    "        distSys.run_command(f\"Load.{load_name}.kvar = {new_kvar}\")\n",
    "\n",
    "[loss] = run_static_pf(distSys, tools=[get_loss], actions=[change_loads]) \n",
    "\n",
    "loss"
   ]
  },
  {
   "cell_type": "markdown",
   "metadata": {},
   "source": [
    "> Note that we use ```run_command``` to run a command directly in OpenDSS instead of ```SystemClass.dss.run_command```. In this way, we prevent an invalid command from being executed silently.\n",
    "\n",
    "\n",
    "It is not necessary to worry about changes in the nominal value of the loads, the function ```run_static_pf``` is in charge of maintaining the information of the original distribution system.\n"
   ]
  },
  {
   "cell_type": "markdown",
   "metadata": {},
   "source": [
    "## Creating your first Reduction.\n",
    "\n",
    "A probabilistic power flow needs to be performed several times to obtain certain conclusions about the behavior of the distribution system. For this, we will create an auxiliary function called ```run_mote_carlo``` that executes ```run_static_pf``` a certain number of times with *Actions* and *Tools* returning a list of all losses.   \n",
    "\n",
    "We can validate the function by calling it passing the number of times and the ```Action``` and ``` Tool``` that we created."
   ]
  },
  {
   "cell_type": "code",
   "execution_count": 6,
   "metadata": {},
   "outputs": [
    {
     "data": {
      "text/plain": [
       "[          kW      kVAr\n",
       " 0  21.992139  180.1035,\n",
       "           kW        kVAr\n",
       " 0  32.191289  261.696568]"
      ]
     },
     "execution_count": 6,
     "metadata": {},
     "output_type": "execute_result"
    }
   ],
   "source": [
    "def run_monte_carlo(times, actions = [lambda:None] , tools = [lambda:None]):\n",
    "    losses = []\n",
    "    for step in range(0, times):\n",
    "        [loss] = run_static_pf(distSys, actions=actions, tools=tools)\n",
    "        losses += [loss]\n",
    "    return losses\n",
    "\n",
    "losses = run_monte_carlo(2, actions = [change_loads], tools = [get_loss])\n",
    "losses"
   ]
  },
  {
   "cell_type": "markdown",
   "metadata": {},
   "source": [
    "However, the data is all in one list. To organize this data, we will create a ```Reduction``` called ```reduce_losses```.\n",
    "\n",
    "> A ```Reduction``` is a python function that takes a list of data from a ```Tool``` as a parameter and returns only a ```pandas.DataFrame```."
   ]
  },
  {
   "cell_type": "code",
   "execution_count": 7,
   "metadata": {},
   "outputs": [
    {
     "data": {
      "text/html": [
       "<div>\n",
       "<style scoped>\n",
       "    .dataframe tbody tr th:only-of-type {\n",
       "        vertical-align: middle;\n",
       "    }\n",
       "\n",
       "    .dataframe tbody tr th {\n",
       "        vertical-align: top;\n",
       "    }\n",
       "\n",
       "    .dataframe thead th {\n",
       "        text-align: right;\n",
       "    }\n",
       "</style>\n",
       "<table border=\"1\" class=\"dataframe\">\n",
       "  <thead>\n",
       "    <tr style=\"text-align: right;\">\n",
       "      <th></th>\n",
       "      <th>kW</th>\n",
       "      <th>kVAr</th>\n",
       "    </tr>\n",
       "  </thead>\n",
       "  <tbody>\n",
       "    <tr>\n",
       "      <th>0</th>\n",
       "      <td>21.992139</td>\n",
       "      <td>180.103500</td>\n",
       "    </tr>\n",
       "    <tr>\n",
       "      <th>1</th>\n",
       "      <td>32.191289</td>\n",
       "      <td>261.696568</td>\n",
       "    </tr>\n",
       "  </tbody>\n",
       "</table>\n",
       "</div>"
      ],
      "text/plain": [
       "          kW        kVAr\n",
       "0  21.992139  180.103500\n",
       "1  32.191289  261.696568"
      ]
     },
     "execution_count": 7,
     "metadata": {},
     "output_type": "execute_result"
    }
   ],
   "source": [
    "def reduce_losses(losses):\n",
    "    # Create a empty data frame\n",
    "    losses_df = pandas.DataFrame()\n",
    "\n",
    "    # Concate all data frames in list\n",
    "    for loss in losses:\n",
    "        losses_df = pandas.concat([losses_df, loss], ignore_index=True)\n",
    "\n",
    "    return losses_df\n",
    "\n",
    "reduce_losses(losses)"
   ]
  },
  {
   "cell_type": "markdown",
   "metadata": {},
   "source": [
    "We can see the stochastic behavior of the substation transformer losses by executing our ```run_mote_carlo``` function, applying the ```reduce_losses```, and generating a boxplot."
   ]
  },
  {
   "cell_type": "code",
   "execution_count": 8,
   "metadata": {},
   "outputs": [
    {
     "data": {
      "image/png": "[encoded data removed]",
      "text/plain": [
       "<Figure size 640x480 with 1 Axes>"
      ]
     },
     "metadata": {},
     "output_type": "display_data"
    }
   ],
   "source": [
    "losses_many = run_monte_carlo(10000, actions = [change_loads], tools = [get_loss])\n",
    "losses_df = reduce_losses(losses_many)\n",
    "losses_df.boxplot(column=[\"kW\", \"kVAr\"])\n",
    "plt.show()"
   ]
  },
  {
   "cell_type": "markdown",
   "metadata": {},
   "source": [
    "## Adding a new element.\n",
    "\n",
    "Now that we have learned how to work with the three main concepts of DSSData, we can go a little further and add two 1.5 MW wind generators on the 675 and 680 nodes.\n",
    "\n",
    "For this, we will initially create a class called ```WindTurbineGeneratorAbstraction``` that abstracts all the components of a wind turbine generator, keeping only the information and behaviors necessary for a study of power flow.\n",
    "\n",
    "After creating the two instances of ```WindTurbineGeneratorAbstraction```, we included both generators in the OpenDSS commands."
   ]
  },
  {
   "cell_type": "code",
   "execution_count": 9,
   "metadata": {},
   "outputs": [
    {
     "data": {
      "text/plain": [
       "'New Generator.wg2 bus1=680 Phases=3 kv=4.16 kw=1500 pf=1 model=1'"
      ]
     },
     "execution_count": 9,
     "metadata": {},
     "output_type": "execute_result"
    }
   ],
   "source": [
    "#Create the wind generator class.\n",
    "class WindTurbineGeneratorAbstraction():\n",
    "    def __init__(self, kW, wind_rated, wind_cutin, wind_cutout, name):\n",
    "        self.kW = kW\n",
    "        self.wind_rated = wind_rated\n",
    "        self.cutin = wind_cutin\n",
    "        self.cutout = wind_cutout\n",
    "        self.name = name\n",
    "\n",
    "    #Linear Wind Turbine Generator power output model\n",
    "    def power_output(self, wind_speed):\n",
    "        if self.cutin < wind_speed and wind_speed <= self.wind_rated:            \n",
    "            return self.kW * (wind_speed - self.cutin) / (self.wind_rated - self.cutin)\n",
    "\n",
    "        elif self.wind_rated < wind_speed and wind_speed <= self.cutout:\n",
    "            return self.kW\n",
    "        else:\n",
    "            return 0.\n",
    "\n",
    "#Instance two wind generators.\n",
    "myWTG1 = WindTurbineGeneratorAbstraction(1500, 11.8, 3.0, 20.0, \"wg1\")\n",
    "myWTG2 = WindTurbineGeneratorAbstraction(1500, 11.8, 3.0, 20.0, \"wg2\")\n",
    "\n",
    "#Include the two generators in the distribution system.\n",
    "cmd = [\n",
    "    f\"New Generator.{myWTG1.name} bus1=675 Phases=3 kv=4.16 kw={myWTG1.kW} pf=1 model=1\",\n",
    "    f\"New Generator.{myWTG2.name} bus1=680 Phases=3 kv=4.16 kw={myWTG2.kW} pf=1 model=1\"\n",
    "    ]\n",
    "distSys.dsscontent = distSys.dsscontent + cmd\n",
    "\n",
    "\n",
    "distSys.dsscontent[-1]"
   ]
  },
  {
   "cell_type": "markdown",
   "metadata": {},
   "source": [
    "## Change the behavior of a new element\n",
    "\n",
    "In the same way that the loads must have a stochastic behavior, our wind turbine generators must also have. The Rayleigh distribution is normally used to model the stochastic wind speed behavior. In this way, we will create an ```Action``` called ```change_wtg``` to express this behavior.\n",
    "\n",
    "We can check it by running the ```Action```.\n",
    "\n",
    "\n",
    "> The ```Action``` generates a change in the distribution system that remains until the end of the execution of the power flow modes or ```SystemClass.init_sys``` method.\n"
   ]
  },
  {
   "cell_type": "code",
   "execution_count": 10,
   "metadata": {},
   "outputs": [
    {
     "name": "stdout",
     "output_type": "stream",
     "text": [
      "1500\n",
      "1500\n"
     ]
    }
   ],
   "source": [
    "from numpy.random import rayleigh\n",
    "\n",
    "wind_speed_mean = 7\n",
    "\n",
    "@actions\n",
    "def change_wtg(distSys, wg):\n",
    "    #Create a wind speed from Rayleigh distribution.\n",
    "    wind_speed = rayleigh(wind_speed_mean)\n",
    "\n",
    "    #Get the power output from the Wind generator.\n",
    "    power_out = wg.power_output(wind_speed)\n",
    "\n",
    "    #Set the power output in the generator.\n",
    "    distSys.run_command(f\"Generator.{wg.name}.kw = {power_out}\")\n",
    "\n",
    "#Run the action.\n",
    "change_wtg(distSys, myWTG1)\n",
    "print( distSys.run_command(f\"? Generator.{myWTG1.name}.kw\") ) \n",
    "\n",
    "#Restart the distribution system.\n",
    "distSys.init_sys()\n",
    "print( distSys.run_command(f\"? Generator.{myWTG1.name}.kw\") )"
   ]
  },
  {
   "cell_type": "markdown",
   "metadata": {},
   "source": [
    "However, an ``` Action``` is only properly executed within a power flow mode when it receives only the instance of ```SystemClass``` as an argument. Therefore, we created two other *Actions* based on ```change_wtg``` that exclusively alter one of the wind generators.\n",
    "\n",
    "Finally, we can see the impact of the two generators on the IEEE 13 bus by running the ```run_mote_carlo``` again passing the two *Actions* created."
   ]
  },
  {
   "cell_type": "code",
   "execution_count": 11,
   "metadata": {},
   "outputs": [
    {
     "data": {
      "image/png": "[encoded data removed]",
      "text/plain": [
       "<Figure size 640x480 with 1 Axes>"
      ]
     },
     "metadata": {},
     "output_type": "display_data"
    }
   ],
   "source": [
    "# Create a action for each Wind generator.\n",
    "change_wtg1 = lambda distSys: change_wtg(distSys, myWTG1)\n",
    "change_wtg2 = lambda distSys: change_wtg(distSys, myWTG2)\n",
    "\n",
    "# Run the Monte Carlo with these actions.\n",
    "losses = run_monte_carlo(\n",
    "    10000, \n",
    "    actions = [change_loads, change_wtg1, change_wtg2], \n",
    "    tools = [get_loss]\n",
    ")\n",
    "losses_df = reduce_losses(losses)\n",
    "losses_df.boxplot(column=[\"kW\", \"kVAr\"])\n",
    "plt.show()"
   ]
  },
  {
   "cell_type": "markdown",
   "metadata": {},
   "source": [
    "That's all, folks. Now you can create your Action, Tool, and Reduction functions and simulate your super modern smart distribution system."
   ]
  }
 ],
 "metadata": {
  "kernelspec": {
   "display_name": ".venv",
   "language": "python",
   "name": "python3"
  },
  "language_info": {
   "codemirror_mode": {
    "name": "ipython",
    "version": 3
   },
   "file_extension": ".py",
   "mimetype": "text/x-python",
   "name": "python",
   "nbconvert_exporter": "python",
   "pygments_lexer": "ipython3",
   "version": "3.10.4"
  },
  "orig_nbformat": 2,
  "vscode": {
   "interpreter": {
    "hash": "4d857f49fc2e5166374446c2706d82019510dbbc079893091c252355d49ce410"
   }
  }
 },
 "nbformat": 4,
 "nbformat_minor": 2
}
